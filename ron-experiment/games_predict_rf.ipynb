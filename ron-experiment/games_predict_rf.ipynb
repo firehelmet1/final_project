{
 "cells": [
  {
   "cell_type": "code",
   "execution_count": 24,
   "metadata": {},
   "outputs": [],
   "source": [
    "import numpy as np\n",
    "import pandas as pd\n",
    "from datetime import datetime, date\n",
    "from sklearn.model_selection import train_test_split\n",
    "from sklearn.ensemble import RandomForestClassifier"
   ]
  },
  {
   "cell_type": "markdown",
   "metadata": {},
   "source": [
    "## Read in Games, Teams, Matchups datasets"
   ]
  },
  {
   "cell_type": "code",
   "execution_count": 25,
   "metadata": {},
   "outputs": [
    {
     "data": {
      "text/html": [
       "<div>\n",
       "<style scoped>\n",
       "    .dataframe tbody tr th:only-of-type {\n",
       "        vertical-align: middle;\n",
       "    }\n",
       "\n",
       "    .dataframe tbody tr th {\n",
       "        vertical-align: top;\n",
       "    }\n",
       "\n",
       "    .dataframe thead th {\n",
       "        text-align: right;\n",
       "    }\n",
       "</style>\n",
       "<table border=\"1\" class=\"dataframe\">\n",
       "  <thead>\n",
       "    <tr style=\"text-align: right;\">\n",
       "      <th></th>\n",
       "      <th>Visitor</th>\n",
       "      <th>Home</th>\n",
       "      <th>R-Coefficient</th>\n",
       "      <th>Home_Score</th>\n",
       "      <th>Visitor_Score</th>\n",
       "      <th>Prediction</th>\n",
       "      <th>Winner</th>\n",
       "      <th>Logic</th>\n",
       "    </tr>\n",
       "  </thead>\n",
       "  <tbody>\n",
       "    <tr>\n",
       "      <th>0</th>\n",
       "      <td>ATL</td>\n",
       "      <td>ORL</td>\n",
       "      <td>NaN</td>\n",
       "      <td>NaN</td>\n",
       "      <td>NaN</td>\n",
       "      <td>NaN</td>\n",
       "      <td>ATL</td>\n",
       "      <td>NaN</td>\n",
       "    </tr>\n",
       "    <tr>\n",
       "      <th>1</th>\n",
       "      <td>MIL</td>\n",
       "      <td>CHI</td>\n",
       "      <td>NaN</td>\n",
       "      <td>NaN</td>\n",
       "      <td>NaN</td>\n",
       "      <td>NaN</td>\n",
       "      <td>MIL</td>\n",
       "      <td>NaN</td>\n",
       "    </tr>\n",
       "  </tbody>\n",
       "</table>\n",
       "</div>"
      ],
      "text/plain": [
       "  Visitor Home  R-Coefficient  Home_Score  Visitor_Score  Prediction Winner  \\\n",
       "0     ATL  ORL            NaN         NaN            NaN         NaN    ATL   \n",
       "1     MIL  CHI            NaN         NaN            NaN         NaN    MIL   \n",
       "\n",
       "   Logic  \n",
       "0    NaN  \n",
       "1    NaN  "
      ]
     },
     "execution_count": 25,
     "metadata": {},
     "output_type": "execute_result"
    }
   ],
   "source": [
    "game = pd.read_csv('games.csv')\n",
    "teams = pd.read_csv('teams.csv')\n",
    "matchups = pd.read_csv('matchups_early.csv')\n",
    "matchups.reset_index(drop=True).head(2)"
   ]
  },
  {
   "cell_type": "markdown",
   "metadata": {},
   "source": [
    "## Merge game dataframes, drop rows with NAN values in OREB, PLUS_MINUS columns"
   ]
  },
  {
   "cell_type": "code",
   "execution_count": 26,
   "metadata": {},
   "outputs": [
    {
     "data": {
      "text/html": [
       "<div>\n",
       "<style scoped>\n",
       "    .dataframe tbody tr th:only-of-type {\n",
       "        vertical-align: middle;\n",
       "    }\n",
       "\n",
       "    .dataframe tbody tr th {\n",
       "        vertical-align: top;\n",
       "    }\n",
       "\n",
       "    .dataframe thead th {\n",
       "        text-align: right;\n",
       "    }\n",
       "</style>\n",
       "<table border=\"1\" class=\"dataframe\">\n",
       "  <thead>\n",
       "    <tr style=\"text-align: right;\">\n",
       "      <th></th>\n",
       "      <th>GAME_ID</th>\n",
       "      <th>HOME_TEAM_ID</th>\n",
       "      <th>VISITOR_TEAM_ID</th>\n",
       "      <th>SEASON</th>\n",
       "      <th>PTS_home</th>\n",
       "      <th>FG_PCT_home</th>\n",
       "      <th>FT_PCT_home</th>\n",
       "      <th>FG3_PCT_home</th>\n",
       "      <th>AST_home</th>\n",
       "      <th>REB_home</th>\n",
       "      <th>PTS_away</th>\n",
       "      <th>FG_PCT_away</th>\n",
       "      <th>FT_PCT_away</th>\n",
       "      <th>FG3_PCT_away</th>\n",
       "      <th>AST_away</th>\n",
       "      <th>REB_away</th>\n",
       "      <th>HOME_TEAM_WINS</th>\n",
       "    </tr>\n",
       "  </thead>\n",
       "  <tbody>\n",
       "    <tr>\n",
       "      <th>0</th>\n",
       "      <td>41300405</td>\n",
       "      <td>1610612759</td>\n",
       "      <td>1610612748</td>\n",
       "      <td>2013</td>\n",
       "      <td>104.0</td>\n",
       "      <td>0.474</td>\n",
       "      <td>0.783</td>\n",
       "      <td>0.462</td>\n",
       "      <td>25.0</td>\n",
       "      <td>40.0</td>\n",
       "      <td>87.0</td>\n",
       "      <td>0.400</td>\n",
       "      <td>0.741</td>\n",
       "      <td>0.280</td>\n",
       "      <td>14.0</td>\n",
       "      <td>41.0</td>\n",
       "      <td>1</td>\n",
       "    </tr>\n",
       "    <tr>\n",
       "      <th>1</th>\n",
       "      <td>41300404</td>\n",
       "      <td>1610612748</td>\n",
       "      <td>1610612759</td>\n",
       "      <td>2013</td>\n",
       "      <td>86.0</td>\n",
       "      <td>0.451</td>\n",
       "      <td>0.650</td>\n",
       "      <td>0.409</td>\n",
       "      <td>13.0</td>\n",
       "      <td>27.0</td>\n",
       "      <td>107.0</td>\n",
       "      <td>0.571</td>\n",
       "      <td>0.720</td>\n",
       "      <td>0.429</td>\n",
       "      <td>25.0</td>\n",
       "      <td>44.0</td>\n",
       "      <td>0</td>\n",
       "    </tr>\n",
       "  </tbody>\n",
       "</table>\n",
       "</div>"
      ],
      "text/plain": [
       "    GAME_ID  HOME_TEAM_ID  VISITOR_TEAM_ID  SEASON  PTS_home  FG_PCT_home  \\\n",
       "0  41300405    1610612759       1610612748    2013     104.0        0.474   \n",
       "1  41300404    1610612748       1610612759    2013      86.0        0.451   \n",
       "\n",
       "   FT_PCT_home  FG3_PCT_home  AST_home  REB_home  PTS_away  FG_PCT_away  \\\n",
       "0        0.783         0.462      25.0      40.0      87.0        0.400   \n",
       "1        0.650         0.409      13.0      27.0     107.0        0.571   \n",
       "\n",
       "   FT_PCT_away  FG3_PCT_away  AST_away  REB_away  HOME_TEAM_WINS  \n",
       "0        0.741         0.280      14.0      41.0               1  \n",
       "1        0.720         0.429      25.0      44.0               0  "
      ]
     },
     "execution_count": 26,
     "metadata": {},
     "output_type": "execute_result"
    }
   ],
   "source": [
    "game.drop(['TEAM_ID_home','TEAM_ID_away', 'GAME_STATUS_TEXT', 'GAME_DATE_EST'], axis=1, inplace=True)\n",
    "game.drop_duplicates()\n",
    "game.head(2)"
   ]
  },
  {
   "cell_type": "code",
   "execution_count": 27,
   "metadata": {
    "scrolled": true
   },
   "outputs": [
    {
     "ename": "ValueError",
     "evalue": "With n_samples=0, test_size=0.25 and train_size=None, the resulting train set will be empty. Adjust any of the aforementioned parameters.",
     "output_type": "error",
     "traceback": [
      "\u001b[1;31m---------------------------------------------------------------------------\u001b[0m",
      "\u001b[1;31mValueError\u001b[0m                                Traceback (most recent call last)",
      "\u001b[1;32m<ipython-input-27-3c807510fd63>\u001b[0m in \u001b[0;36m<module>\u001b[1;34m\u001b[0m\n\u001b[0;32m     32\u001b[0m     \u001b[0mX\u001b[0m \u001b[1;33m=\u001b[0m \u001b[0mgame\u001b[0m\u001b[1;33m.\u001b[0m\u001b[0mdrop\u001b[0m\u001b[1;33m(\u001b[0m\u001b[1;34m\"HOME_TEAM_WINS\"\u001b[0m\u001b[1;33m,\u001b[0m \u001b[0maxis\u001b[0m\u001b[1;33m=\u001b[0m\u001b[1;36m1\u001b[0m\u001b[1;33m)\u001b[0m\u001b[1;33m\u001b[0m\u001b[1;33m\u001b[0m\u001b[0m\n\u001b[0;32m     33\u001b[0m     \u001b[0my\u001b[0m \u001b[1;33m=\u001b[0m \u001b[0mgame\u001b[0m\u001b[1;33m[\u001b[0m\u001b[1;34m\"HOME_TEAM_WINS\"\u001b[0m\u001b[1;33m]\u001b[0m\u001b[1;33m\u001b[0m\u001b[1;33m\u001b[0m\u001b[0m\n\u001b[1;32m---> 34\u001b[1;33m     \u001b[0mX_train\u001b[0m\u001b[1;33m,\u001b[0m \u001b[0mX_test\u001b[0m\u001b[1;33m,\u001b[0m \u001b[0my_train\u001b[0m\u001b[1;33m,\u001b[0m \u001b[0my_test\u001b[0m \u001b[1;33m=\u001b[0m \u001b[0mtrain_test_split\u001b[0m\u001b[1;33m(\u001b[0m\u001b[0mX\u001b[0m\u001b[1;33m,\u001b[0m \u001b[0my\u001b[0m\u001b[1;33m,\u001b[0m \u001b[0mrandom_state\u001b[0m\u001b[1;33m=\u001b[0m\u001b[1;36m1\u001b[0m\u001b[1;33m,\u001b[0m \u001b[0mstratify\u001b[0m\u001b[1;33m=\u001b[0m\u001b[0my\u001b[0m\u001b[1;33m)\u001b[0m\u001b[1;33m\u001b[0m\u001b[1;33m\u001b[0m\u001b[0m\n\u001b[0m\u001b[0;32m     35\u001b[0m \u001b[1;33m\u001b[0m\u001b[0m\n\u001b[0;32m     36\u001b[0m \u001b[1;31m#Calculate Historical Win%\u001b[0m\u001b[1;33m\u001b[0m\u001b[1;33m\u001b[0m\u001b[1;33m\u001b[0m\u001b[0m\n",
      "\u001b[1;32m~\\Anaconda3\\lib\\site-packages\\sklearn\\model_selection\\_split.py\u001b[0m in \u001b[0;36mtrain_test_split\u001b[1;34m(*arrays, **options)\u001b[0m\n\u001b[0;32m   2098\u001b[0m     \u001b[0mn_samples\u001b[0m \u001b[1;33m=\u001b[0m \u001b[0m_num_samples\u001b[0m\u001b[1;33m(\u001b[0m\u001b[0marrays\u001b[0m\u001b[1;33m[\u001b[0m\u001b[1;36m0\u001b[0m\u001b[1;33m]\u001b[0m\u001b[1;33m)\u001b[0m\u001b[1;33m\u001b[0m\u001b[1;33m\u001b[0m\u001b[0m\n\u001b[0;32m   2099\u001b[0m     n_train, n_test = _validate_shuffle_split(n_samples, test_size, train_size,\n\u001b[1;32m-> 2100\u001b[1;33m                                               default_test_size=0.25)\n\u001b[0m\u001b[0;32m   2101\u001b[0m \u001b[1;33m\u001b[0m\u001b[0m\n\u001b[0;32m   2102\u001b[0m     \u001b[1;32mif\u001b[0m \u001b[0mshuffle\u001b[0m \u001b[1;32mis\u001b[0m \u001b[1;32mFalse\u001b[0m\u001b[1;33m:\u001b[0m\u001b[1;33m\u001b[0m\u001b[1;33m\u001b[0m\u001b[0m\n",
      "\u001b[1;32m~\\Anaconda3\\lib\\site-packages\\sklearn\\model_selection\\_split.py\u001b[0m in \u001b[0;36m_validate_shuffle_split\u001b[1;34m(n_samples, test_size, train_size, default_test_size)\u001b[0m\n\u001b[0;32m   1780\u001b[0m             \u001b[1;34m'resulting train set will be empty. Adjust any of the '\u001b[0m\u001b[1;33m\u001b[0m\u001b[1;33m\u001b[0m\u001b[0m\n\u001b[0;32m   1781\u001b[0m             'aforementioned parameters.'.format(n_samples, test_size,\n\u001b[1;32m-> 1782\u001b[1;33m                                                 train_size)\n\u001b[0m\u001b[0;32m   1783\u001b[0m         )\n\u001b[0;32m   1784\u001b[0m \u001b[1;33m\u001b[0m\u001b[0m\n",
      "\u001b[1;31mValueError\u001b[0m: With n_samples=0, test_size=0.25 and train_size=None, the resulting train set will be empty. Adjust any of the aforementioned parameters."
     ]
    }
   ],
   "source": [
    "spread_predict = []\n",
    "record_predict = []\n",
    "score_predict = []\n",
    "winner_predict = []\n",
    "hscore = []\n",
    "vscore = []\n",
    "rf_predictor = []\n",
    "predictor = []\n",
    "\n",
    "for x in range(len(matchups)):\n",
    "     \n",
    "    home = matchups.iloc[x]['Home']\n",
    "    visitor = matchups.iloc[x]['Visitor']\n",
    "\n",
    "    for i in range(len(teams)):\n",
    "        if teams.iloc[i]['ABBREVIATION'] == home:\n",
    "            home_id = teams.iloc[i]['TEAM_ID']\n",
    "\n",
    "        if teams.iloc[i]['ABBREVIATION'] == visitor:\n",
    "            visitor_id = teams.iloc[i]['TEAM_ID']\n",
    "\n",
    "#Filter games to matched home, visitor teams\n",
    "    game = game[game['HOME_TEAM_ID'] == home_id]\n",
    "    game = game[game['VISITOR_TEAM_ID'] == visitor_id]\n",
    "    \n",
    "#Drop dates, team_ids, game_ids, season - will not be useful\n",
    "    game.drop(['GAME_ID','HOME_TEAM_ID', \n",
    "            'VISITOR_TEAM_ID', 'SEASON'], axis=1)\n",
    "    game.dropna(inplace=True)\n",
    "    \n",
    "#Split Dataset for training, test\n",
    "    X = game.drop(\"HOME_TEAM_WINS\", axis=1)\n",
    "    y = game[\"HOME_TEAM_WINS\"]\n",
    "    X_train, X_test, y_train, y_test = train_test_split(X, y, random_state=1, stratify=y)\n",
    "\n",
    "#Calculate Historical Win%\n",
    "    wins = 0\n",
    "    for j in range(len(y)):\n",
    "        wins = wins + round(y.iloc[j])\n",
    "    record = wins / len(y)    \n",
    "\n",
    "#Random Forest Classification\n",
    "    rf = RandomForestClassifier(n_estimators=200)\n",
    "    rf = rf.fit(X_train, y_train)\n",
    "    \n",
    "# Fitting our model with all of our features in X\n",
    "    score = rf.score(X, y)\n",
    "    predictor.append(rf.predict(X).mean()- 0.5*np.var(rf.predict(X))/record)\n",
    "\n",
    "# Calculate Spread\n",
    "    home_score = game['PTS_home'].mean()\n",
    "    visitor_score = game['PTS_away'].mean()\n",
    "    spread = home_score - visitor_score\n",
    "\n",
    "# Append Scoring Lists\n",
    "    spread_predict.append(spread)\n",
    "    record_predict.append(record)\n",
    "    score_predict.append(score)\n",
    "    hscore.append(home_score)\n",
    "    vscore.append(visitor_score)"
   ]
  },
  {
   "cell_type": "markdown",
   "metadata": {},
   "source": [
    "## Populate matchups dataframe, write to CSV"
   ]
  },
  {
   "cell_type": "code",
   "execution_count": null,
   "metadata": {
    "scrolled": true
   },
   "outputs": [],
   "source": [
    "matchups['Home_Score'] = hscore\n",
    "matchups['Visitor_Score'] = vscore\n",
    "matchups['R-Coefficient'] = score_predict\n",
    "matchups['Historical Home Win Record'] = record_predict\n",
    "\n",
    "win_predictor = []\n",
    "win_logic = []\n",
    "\n",
    "for i in range (len(matchups)):\n",
    "    if predictor[i] > 0.5:\n",
    "        win_predictor.append(matchups.iloc[i]['Home'])\n",
    "    else:\n",
    "        win_predictor.append(matchups.iloc[i]['Visitor'])\n",
    "            \n",
    "#Calculate Logic - 1 if correct, 0 if incorrect\n",
    "    if win_predictor[i] == matchups.iloc[i]['Winner']:\n",
    "        win_logic.append(1)\n",
    "    else:\n",
    "        win_logic.append(0)\n",
    "\n",
    "matchups['Prediction'] = win_predictor\n",
    "matchups['Logic'] = win_logic\n",
    "matchups.to_csv('matchup_output_early.csv')\n",
    "\n",
    "#matchups prediction accuracy\n",
    "print((sum(win_logic) / len(win_logic)), sum(score_predict)/len(score_predict))"
   ]
  },
  {
   "cell_type": "code",
   "execution_count": null,
   "metadata": {},
   "outputs": [],
   "source": []
  }
 ],
 "metadata": {
  "kernelspec": {
   "display_name": "Python 3",
   "language": "python",
   "name": "python3"
  },
  "language_info": {
   "codemirror_mode": {
    "name": "ipython",
    "version": 3
   },
   "file_extension": ".py",
   "mimetype": "text/x-python",
   "name": "python",
   "nbconvert_exporter": "python",
   "pygments_lexer": "ipython3",
   "version": "3.7.3"
  }
 },
 "nbformat": 4,
 "nbformat_minor": 2
}
